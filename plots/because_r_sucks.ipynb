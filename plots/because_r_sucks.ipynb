{
 "cells": [
  {
   "cell_type": "code",
   "execution_count": 1,
   "metadata": {},
   "outputs": [],
   "source": [
    "import pandas as pd\n",
    "import glob"
   ]
  },
  {
   "cell_type": "code",
   "execution_count": 37,
   "metadata": {},
   "outputs": [
    {
     "data": {
      "text/plain": [
       "['a280.csv',\n",
       " 'ch130.csv',\n",
       " 'ch150.csv',\n",
       " 'eil51.csv',\n",
       " 'kroA100.csv',\n",
       " 'kroC100.csv',\n",
       " 'lin105.csv',\n",
       " 'pcb442.csv',\n",
       " 'pr1002.csv',\n",
       " 'tsp225.csv']"
      ]
     },
     "execution_count": 37,
     "metadata": {},
     "output_type": "execute_result"
    }
   ],
   "source": [
    "csvs = [p for p in glob.glob('*.csv') if 'results' not in p and 'new_' not in p]\n",
    "csvs"
   ]
  },
  {
   "cell_type": "code",
   "execution_count": 26,
   "metadata": {},
   "outputs": [
    {
     "data": {
      "text/plain": [
       "[0, 1, 2, 3, 4, 1]"
      ]
     },
     "execution_count": 26,
     "metadata": {},
     "output_type": "execute_result"
    }
   ],
   "source": [
    "def parse_path(s):\n",
    "    tokens = [int(token) for token in s.split()]\n",
    "    idx = tokens.index(0)\n",
    "    left = tokens[:idx]\n",
    "    right = tokens[idx:]\n",
    "    return right + left\n",
    "    \n",
    "parse_path(\"0 1 2 3 4 1\")"
   ]
  },
  {
   "cell_type": "code",
   "execution_count": 27,
   "metadata": {},
   "outputs": [],
   "source": [
    "def as_pairs(x):\n",
    "    y = x[1:]\n",
    "    y.append(x[0])\n",
    "    return {tuple(sorted(pair)) for pair in zip(x, y)}"
   ]
  },
  {
   "cell_type": "code",
   "execution_count": 28,
   "metadata": {},
   "outputs": [
    {
     "data": {
      "text/plain": [
       "0.5"
      ]
     },
     "execution_count": 28,
     "metadata": {},
     "output_type": "execute_result"
    }
   ],
   "source": [
    "def similarity(x1, x2):\n",
    "    s1, s2 = as_pairs(parse_path(x1)), as_pairs(parse_path(x2))\n",
    "    return len(s1.intersection(s2)) / len(s1)\n",
    "\n",
    "similarity(\"0 1 2 3\", \"0 1 3 2\")"
   ]
  },
  {
   "cell_type": "code",
   "execution_count": 42,
   "metadata": {},
   "outputs": [
    {
     "name": "stdout",
     "output_type": "stream",
     "text": [
      "Done a280.csv\n",
      "Done ch130.csv\n",
      "Done ch150.csv\n",
      "Done eil51.csv\n",
      "Done kroA100.csv\n",
      "Done kroC100.csv\n",
      "Done lin105.csv\n",
      "Done pcb442.csv\n",
      "Done pr1002.csv\n",
      "Done tsp225.csv\n"
     ]
    }
   ],
   "source": [
    "for csv in csvs:\n",
    "    df = pd.read_csv(csv)\n",
    "    df['similarity'] = df.apply(lambda row: similarity(row['optimal_path'], row['final_path']), axis=1)\n",
    "    df[[\"problem\", \"optimizer\", \"final_cost\", \"optimal_cost\", \"quality\", \"similarity\"]].to_csv(\"new_\"+csv, index=False)\n",
    "    print(\"Done\", csv)"
   ]
  }
 ],
 "metadata": {
  "kernelspec": {
   "display_name": "Python 3",
   "language": "python",
   "name": "python3"
  },
  "language_info": {
   "codemirror_mode": {
    "name": "ipython",
    "version": 3
   },
   "file_extension": ".py",
   "mimetype": "text/x-python",
   "name": "python",
   "nbconvert_exporter": "python",
   "pygments_lexer": "ipython3",
   "version": "3.7.4"
  }
 },
 "nbformat": 4,
 "nbformat_minor": 2
}
